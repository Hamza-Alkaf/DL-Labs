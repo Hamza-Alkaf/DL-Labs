{
 "cells": [
  {
   "cell_type": "code",
   "metadata": {
    "id": "ngYpZrNvI8z4",
    "ExecuteTime": {
     "end_time": "2025-03-12T11:18:55.693317Z",
     "start_time": "2025-03-12T11:18:49.067064Z"
    }
   },
   "source": [
    "import torch\n",
    "import torch.nn as nn\n",
    "import torch.optim as optim\n",
    "import torchvision\n",
    "import torchvision.transforms as transforms\n",
    "from torchvision import models\n",
    "import matplotlib.pyplot as plt"
   ],
   "outputs": [],
   "execution_count": 1
  },
  {
   "cell_type": "code",
   "metadata": {
    "colab": {
     "base_uri": "https://localhost:8080/"
    },
    "collapsed": true,
    "id": "RTHICFcUI8z6",
    "outputId": "4cfdd804-29e6-4947-aa8d-3a49ea686448",
    "ExecuteTime": {
     "end_time": "2025-03-12T11:19:12.497177Z",
     "start_time": "2025-03-12T11:19:07.203928Z"
    }
   },
   "source": [
    "# Load a pre-trained ResNet18 model\n",
    "model = models.resnet18(pretrained=True)\n",
    "\n",
    "# Modify the last layer to match MNIST classes (10 classes)\n",
    "model.fc = nn.Linear(model.fc.in_features, 10)\n",
    "\n",
    "# Set the model to training mode and use GPU if available\n",
    "device = torch.device(\"cuda\" if torch.cuda.is_available() else \"cpu\")\n",
    "model = model.to(device)"
   ],
   "outputs": [
    {
     "name": "stderr",
     "output_type": "stream",
     "text": [
      "C:\\Users\\4311698\\.conda\\envs\\cudaenv\\Lib\\site-packages\\torchvision\\models\\_utils.py:208: UserWarning: The parameter 'pretrained' is deprecated since 0.13 and may be removed in the future, please use 'weights' instead.\n",
      "  warnings.warn(\n",
      "C:\\Users\\4311698\\.conda\\envs\\cudaenv\\Lib\\site-packages\\torchvision\\models\\_utils.py:223: UserWarning: Arguments other than a weight enum or `None` for 'weights' are deprecated since 0.13 and may be removed in the future. The current behavior is equivalent to passing `weights=ResNet18_Weights.IMAGENET1K_V1`. You can also use `weights=ResNet18_Weights.DEFAULT` to get the most up-to-date weights.\n",
      "  warnings.warn(msg)\n",
      "Downloading: \"https://download.pytorch.org/models/resnet18-f37072fd.pth\" to C:\\Users\\4311698/.cache\\torch\\hub\\checkpoints\\resnet18-f37072fd.pth\n",
      "100%|██████████| 44.7M/44.7M [00:04<00:00, 10.5MB/s]\n"
     ]
    }
   ],
   "execution_count": 2
  },
  {
   "cell_type": "code",
   "metadata": {
    "colab": {
     "base_uri": "https://localhost:8080/"
    },
    "collapsed": true,
    "id": "E5kez6GII8z8",
    "outputId": "553c65ee-0dd7-4372-bdd0-37b82a5f63a7",
    "ExecuteTime": {
     "end_time": "2025-03-12T11:21:15.278550Z",
     "start_time": "2025-03-12T11:19:12.500679Z"
    }
   },
   "source": [
    "# Transform images to 224x224 and normalize\n",
    "transform = transforms.Compose([\n",
    "    transforms.Grayscale(num_output_channels=3),\n",
    "    transforms.Resize((224, 224)),\n",
    "    transforms.ToTensor(),\n",
    "    transforms.Normalize((0.5, 0.5, 0.5), (0.5, 0.5, 0.5))\n",
    "])\n",
    "\n",
    "# Load the MNIST dataset\n",
    "trainset = torchvision.datasets.MNIST(root='./data', train=True, download=True, transform=transform)\n",
    "trainloader = torch.utils.data.DataLoader(trainset, batch_size=64, shuffle=True)\n",
    "\n",
    "testset = torchvision.datasets.MNIST(root='./data', train=False, download=True, transform=transform)\n",
    "testloader = torch.utils.data.DataLoader(testset, batch_size=64, shuffle=False)"
   ],
   "outputs": [
    {
     "name": "stderr",
     "output_type": "stream",
     "text": [
      "100%|██████████| 9.91M/9.91M [01:34<00:00, 105kB/s] \n",
      "100%|██████████| 28.9k/28.9k [00:00<00:00, 185kB/s]\n",
      "100%|██████████| 1.65M/1.65M [00:15<00:00, 106kB/s] \n",
      "100%|██████████| 4.54k/4.54k [00:00<?, ?B/s]\n"
     ]
    }
   ],
   "execution_count": 3
  },
  {
   "cell_type": "code",
   "metadata": {
    "id": "LwlSactxI8z9",
    "ExecuteTime": {
     "end_time": "2025-03-12T11:21:15.293580Z",
     "start_time": "2025-03-12T11:21:15.289393Z"
    }
   },
   "source": [
    "# Define loss function and optimizer\n",
    "loss_func = nn.CrossEntropyLoss()\n",
    "optimizer = optim.Adam(model.parameters(), lr=0.001)\n",
    "\n",
    "# Learning rate scheduler to adjust the learning rate\n",
    "scheduler = optim.lr_scheduler.StepLR(optimizer, step_size=7, gamma=0.1)"
   ],
   "outputs": [],
   "execution_count": 4
  },
  {
   "cell_type": "code",
   "metadata": {
    "colab": {
     "base_uri": "https://localhost:8080/"
    },
    "id": "wfnKQZkPI8z-",
    "outputId": "34397566-2b9b-42b1-d018-9bece7e49897",
    "ExecuteTime": {
     "end_time": "2025-03-12T11:22:18.502210Z",
     "start_time": "2025-03-12T11:21:15.293580Z"
    }
   },
   "source": [
    "# Fine-tune the model\n",
    "num_epochs = 1\n",
    "\n",
    "for epoch in range(num_epochs):\n",
    "    running_loss = 0.0\n",
    "    for images, labels in trainloader:\n",
    "        images, labels = images.to(device), labels.to(device)\n",
    "\n",
    "        optimizer.zero_grad()\n",
    "        outputs = model(images)\n",
    "        loss = loss_func(outputs, labels)\n",
    "        loss.backward()\n",
    "        optimizer.step()\n",
    "\n",
    "        running_loss += loss.item()\n",
    "\n",
    "    # Step the scheduler after each epoch\n",
    "    scheduler.step()\n",
    "\n",
    "    print(f\"Epoch [{epoch+1}/{num_epochs}], Loss: {running_loss/len(trainloader):.4f}\")\n",
    "\n",
    "print('Fine-tuning complete!')"
   ],
   "outputs": [
    {
     "name": "stdout",
     "output_type": "stream",
     "text": [
      "Epoch [1/1], Loss: 0.0682\n",
      "Fine-tuning complete!\n"
     ]
    }
   ],
   "execution_count": 5
  },
  {
   "cell_type": "code",
   "metadata": {
    "colab": {
     "base_uri": "https://localhost:8080/"
    },
    "id": "ZKl-ZlNSI8z-",
    "outputId": "833c3421-ee1e-4368-f62a-afdf7c6fafa8",
    "ExecuteTime": {
     "end_time": "2025-03-12T11:22:18.717111Z",
     "start_time": "2025-03-12T11:22:18.685080Z"
    }
   },
   "source": [
    "# Save the fine-tuned model\n",
    "torch.save(model.state_dict(), 'finetuned_resnet18_mnist.pt')\n",
    "print('Model saved!')"
   ],
   "outputs": [
    {
     "name": "stdout",
     "output_type": "stream",
     "text": [
      "Model saved!\n"
     ]
    }
   ],
   "execution_count": 6
  },
  {
   "cell_type": "code",
   "metadata": {
    "colab": {
     "base_uri": "https://localhost:8080/"
    },
    "id": "xzQ3XlK7I8z_",
    "outputId": "a416753b-19eb-4e9c-e4ea-1fdc2ef4a11b",
    "ExecuteTime": {
     "end_time": "2025-03-12T11:22:26.858377Z",
     "start_time": "2025-03-12T11:22:18.717111Z"
    }
   },
   "source": [
    "# Set the model to evaluation mode\n",
    "model.eval()\n",
    "\n",
    "correct = 0\n",
    "total = 0\n",
    "\n",
    "with torch.no_grad():\n",
    "    for images, labels in testloader:\n",
    "        images, labels = images.to(device), labels.to(device)\n",
    "        outputs = model(images)\n",
    "        _, predicted = torch.max(outputs.data, 1)\n",
    "        total += labels.size(0)\n",
    "        correct += (predicted == labels).sum().item()\n",
    "\n",
    "print(f'Accuracy of the fine-tuned model on the test images: {100 * correct / total:.2f}%')"
   ],
   "outputs": [
    {
     "name": "stdout",
     "output_type": "stream",
     "text": [
      "Accuracy of the fine-tuned model on the test images: 98.94%\n"
     ]
    }
   ],
   "execution_count": 7
  },
  {
   "cell_type": "code",
   "metadata": {
    "colab": {
     "base_uri": "https://localhost:8080/"
    },
    "id": "-mXAgljOI8z_",
    "outputId": "f7e7bc20-8573-4554-aed4-3b0610ea4dff",
    "ExecuteTime": {
     "end_time": "2025-03-12T11:22:27.012054Z",
     "start_time": "2025-03-12T11:22:26.897031Z"
    }
   },
   "source": [
    "# Load the model for inference\n",
    "model = models.resnet18()\n",
    "model.fc = nn.Linear(model.fc.in_features, 10)\n",
    "model.load_state_dict(torch.load('finetuned_resnet18_mnist.pt'))\n",
    "model.eval()\n",
    "model = model.to(device)\n",
    "\n",
    "# Make a prediction on a single image from the test set\n",
    "test_image, _ = testset[0]  # Get the first image from the test set\n",
    "test_image = test_image.unsqueeze(0).to(device)  # Add a batch dimension and move to device\n",
    "\n",
    "output = model(test_image)\n",
    "_, predicted = torch.max(output, 1)\n",
    "\n",
    "print('Predicted label:', predicted.item())"
   ],
   "outputs": [
    {
     "name": "stdout",
     "output_type": "stream",
     "text": [
      "Predicted label: 7\n"
     ]
    }
   ],
   "execution_count": 8
  },
  {
   "cell_type": "code",
   "metadata": {
    "colab": {
     "base_uri": "https://localhost:8080/",
     "height": 535
    },
    "id": "dRIx--oGI80A",
    "outputId": "82f849f4-4065-4fa3-cade-3d140e11ab37",
    "ExecuteTime": {
     "end_time": "2025-03-12T11:22:27.231483Z",
     "start_time": "2025-03-12T11:22:27.057174Z"
    }
   },
   "source": [
    "# Load the model for inference\n",
    "model = models.resnet18()\n",
    "model.fc = nn.Linear(model.fc.in_features, 10)\n",
    "model.load_state_dict(torch.load('finetuned_resnet18_mnist.pt', map_location=device))\n",
    "model.eval()\n",
    "model = model.to(device)\n",
    "\n",
    "# Get a single image from the test set\n",
    "test_image, _ = testset[0]  # Get the first image from the test set\n",
    "\n",
    "# Display the image\n",
    "plt.imshow(test_image.permute(1, 2, 0).cpu().numpy(), cmap='gray')  # Convert tensor to NumPy and plot\n",
    "plt.axis('off')\n",
    "plt.title(\"Input Image\")\n",
    "\n",
    "# Preprocess and predict\n",
    "test_image = test_image.unsqueeze(0).to(device)  # Add a batch dimension and move to device\n",
    "output = model(test_image)\n",
    "_, predicted = torch.max(output, 1)\n",
    "\n",
    "print('\\nPredicted label:', predicted.item())\n",
    "\n",
    "# Show the image\n",
    "plt.show()"
   ],
   "outputs": [
    {
     "name": "stderr",
     "output_type": "stream",
     "text": [
      "Clipping input data to the valid range for imshow with RGB data ([0..1] for floats or [0..255] for integers). Got range [-1.0..0.99215686].\n"
     ]
    },
    {
     "name": "stdout",
     "output_type": "stream",
     "text": [
      "\n",
      "Predicted label: 7\n"
     ]
    },
    {
     "data": {
      "text/plain": [
       "<Figure size 640x480 with 1 Axes>"
      ],
      "image/png": "[encoded data removed]"
     },
     "metadata": {},
     "output_type": "display_data"
    }
   ],
   "execution_count": 9
  },
  {
   "cell_type": "code",
   "execution_count": null,
   "metadata": {
    "id": "PG0w8qAJI80A"
   },
   "outputs": [],
   "source": []
  }
 ],
 "metadata": {
  "kernelspec": {
   "display_name": "Python 3 (ipykernel)",
   "name": "python3",
   "language": "python"
  },
  "language_info": {
   "codemirror_mode": {
    "name": "ipython",
    "version": 3
   },
   "file_extension": ".py",
   "mimetype": "text/x-python",
   "name": "python",
   "nbconvert_exporter": "python",
   "pygments_lexer": "ipython3",
   "version": "3.9.12"
  },
  "colab": {
   "provenance": [],
   "gpuType": "T4"
  },
  "accelerator": "GPU"
 },
 "nbformat": 4,
 "nbformat_minor": 0
}
