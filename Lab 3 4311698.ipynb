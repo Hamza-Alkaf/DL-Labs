{
 "cells": [
  {
   "cell_type": "code",
   "id": "a5dac8f9",
   "metadata": {
    "ExecuteTime": {
     "end_time": "2025-02-19T11:46:21.782292Z",
     "start_time": "2025-02-19T11:46:20.721537Z"
    }
   },
   "source": [
    "import torch\n",
    "from torch.autograd import Variable\n",
    "import torch.optim as optim"
   ],
   "outputs": [],
   "execution_count": 1
  },
  {
   "cell_type": "code",
   "id": "2e383e63",
   "metadata": {
    "ExecuteTime": {
     "end_time": "2025-02-19T11:47:25.871017Z",
     "start_time": "2025-02-19T11:47:25.865564Z"
    }
   },
   "source": [
    "x = torch.tensor(2.0,requires_grad=True) # Input tensor\n",
    "y = torch.tensor(10.0,requires_grad=True)\n",
    "b=torch.tensor(5.0,requires_grad=True)\n",
    "w = torch.tensor(3.0, requires_grad=True)\n",
    "# Print the tensors\n",
    "print(\"x:\", x)\n",
    "print(\"y:\", y)\n",
    "print(\"w:\", w)\n",
    "print(\"b\",b)"
   ],
   "outputs": [
    {
     "name": "stdout",
     "output_type": "stream",
     "text": [
      "x: tensor(2., requires_grad=True)\n",
      "y: tensor(10., requires_grad=True)\n",
      "w: tensor(3., requires_grad=True)\n",
      "b tensor(5., requires_grad=True)\n"
     ]
    }
   ],
   "execution_count": 9
  },
  {
   "cell_type": "code",
   "id": "8e756b1c",
   "metadata": {
    "ExecuteTime": {
     "end_time": "2025-02-19T11:47:30.311543Z",
     "start_time": "2025-02-19T11:47:30.307156Z"
    }
   },
   "source": [
    "y_hat = w * x # Output / Predictions\n",
    "\n",
    "print(\"y_hat:\", y_hat)"
   ],
   "outputs": [
    {
     "name": "stdout",
     "output_type": "stream",
     "text": [
      "y_hat: tensor(6., grad_fn=<MulBackward0>)\n"
     ]
    }
   ],
   "execution_count": 10
  },
  {
   "cell_type": "code",
   "id": "5e4c177d",
   "metadata": {
    "ExecuteTime": {
     "end_time": "2025-02-19T11:47:30.959991Z",
     "start_time": "2025-02-19T11:47:30.955002Z"
    }
   },
   "source": [
    "# Compute loss\n",
    "s = y_hat - y\n",
    "loss = (s)**2\n",
    "\n",
    "print(\"Loss:\", loss)"
   ],
   "outputs": [
    {
     "name": "stdout",
     "output_type": "stream",
     "text": [
      "Loss: tensor(16., grad_fn=<PowBackward0>)\n"
     ]
    }
   ],
   "execution_count": 11
  },
  {
   "cell_type": "code",
   "id": "2dc35532",
   "metadata": {
    "ExecuteTime": {
     "end_time": "2025-02-19T11:47:31.616112Z",
     "start_time": "2025-02-19T11:47:31.612803Z"
    }
   },
   "source": [
    "# computes the gradients for all tensors that have requires_grad=True, by calling the backward function for loss\n",
    "loss.backward()"
   ],
   "outputs": [],
   "execution_count": 12
  },
  {
   "cell_type": "code",
   "id": "bbb3bc32",
   "metadata": {
    "ExecuteTime": {
     "end_time": "2025-02-19T11:47:32.513030Z",
     "start_time": "2025-02-19T11:47:32.507807Z"
    }
   },
   "source": [
    "# Access and print the gradients with respect to x and w\n",
    "dx = x.grad  # x does not have requires_grad=True, so dx will be None\n",
    "dw = w.grad  # w has requires_grad=True, so dw will contain the gradient\n",
    "\n",
    "print(\"x.grad :\", dx)\n",
    "print(\"w.grad :\", dw)\n"
   ],
   "outputs": [
    {
     "name": "stdout",
     "output_type": "stream",
     "text": [
      "x.grad : tensor(-24.)\n",
      "w.grad : tensor(-16.)\n"
     ]
    }
   ],
   "execution_count": 13
  },
  {
   "cell_type": "code",
   "id": "7813161e-56b9-4cac-95cd-c53359b2ad70",
   "metadata": {
    "ExecuteTime": {
     "end_time": "2025-02-19T11:47:33.071490Z",
     "start_time": "2025-02-19T11:47:33.066862Z"
    }
   },
   "source": [
    "w.grad.data.zero_()\n",
    "x.grad.data.zero_()"
   ],
   "outputs": [
    {
     "data": {
      "text/plain": [
       "tensor(0.)"
      ]
     },
     "execution_count": 14,
     "metadata": {},
     "output_type": "execute_result"
    }
   ],
   "execution_count": 14
  },
  {
   "cell_type": "code",
   "id": "aaaeee72-fbec-4c94-a4bf-a2c45531e11a",
   "metadata": {
    "ExecuteTime": {
     "end_time": "2025-02-19T11:47:34.242538Z",
     "start_time": "2025-02-19T11:47:34.238235Z"
    }
   },
   "source": [
    "y_hat = w * x + b\n",
    "print(\"y_hat:\", y_hat)"
   ],
   "outputs": [
    {
     "name": "stdout",
     "output_type": "stream",
     "text": [
      "y_hat: tensor(11., grad_fn=<AddBackward0>)\n"
     ]
    }
   ],
   "execution_count": 15
  },
  {
   "cell_type": "code",
   "id": "decc978f-c912-4ed6-b9d9-5e107a9da8f0",
   "metadata": {
    "ExecuteTime": {
     "end_time": "2025-02-19T11:47:35.220265Z",
     "start_time": "2025-02-19T11:47:35.215508Z"
    }
   },
   "source": [
    "s = y_hat - y\n",
    "loss = (s)**2\n",
    "\n",
    "print(\"Loss:\", loss)"
   ],
   "outputs": [
    {
     "name": "stdout",
     "output_type": "stream",
     "text": [
      "Loss: tensor(1., grad_fn=<PowBackward0>)\n"
     ]
    }
   ],
   "execution_count": 16
  },
  {
   "cell_type": "code",
   "execution_count": 166,
   "id": "b8f1fec0-deff-4599-9385-efa75824628c",
   "metadata": {},
   "outputs": [],
   "source": [
    "loss.backward()"
   ]
  },
  {
   "cell_type": "code",
   "execution_count": 167,
   "id": "61873755-efdb-4cf7-a54f-64ab3507773a",
   "metadata": {},
   "outputs": [
    {
     "name": "stdout",
     "output_type": "stream",
     "text": [
      "x.grad : tensor(6.)\n",
      "w.grad : tensor(4.)\n",
      "b.grad =  tensor(2.)\n"
     ]
    }
   ],
   "source": [
    "dx = x.grad  # x does not have requires_grad=True, so dx will be None\n",
    "dw = w.grad  # w has requires_grad=True, so dw will contain the gradient\n",
    "db=b.grad\n",
    "print(\"x.grad :\", dx)\n",
    "print(\"w.grad :\", dw)\n",
    "print(\"b.grad = \",db)"
   ]
  },
  {
   "cell_type": "code",
   "execution_count": 168,
   "id": "6364f054-f6c7-4fef-80d8-523f6733efdc",
   "metadata": {},
   "outputs": [
    {
     "data": {
      "text/plain": [
       "tensor(0.)"
      ]
     },
     "execution_count": 168,
     "metadata": {},
     "output_type": "execute_result"
    }
   ],
   "source": [
    "w.grad.data.zero_()\n",
    "x.grad.data.zero_()\n",
    "b.grad.data.zero_()"
   ]
  },
  {
   "cell_type": "code",
   "execution_count": 169,
   "id": "0271736b-7065-4144-be0b-cfa5d6c5e20c",
   "metadata": {},
   "outputs": [
    {
     "name": "stdout",
     "output_type": "stream",
     "text": [
      "x: tensor(2., requires_grad=True)\n",
      "y: tensor(10., requires_grad=True)\n",
      "w: tensor(3., requires_grad=True)\n",
      "b tensor(5., requires_grad=True)\n"
     ]
    }
   ],
   "source": [
    "\n",
    "print(\"x:\", x)\n",
    "print(\"y:\", y)\n",
    "print(\"w:\", w)\n",
    "print(\"b\",b)"
   ]
  },
  {
   "cell_type": "code",
   "id": "c0393f7a-d6b2-4d5d-8889-66d00c9415bb",
   "metadata": {
    "ExecuteTime": {
     "end_time": "2025-02-19T11:49:19.412623Z",
     "start_time": "2025-02-19T11:49:19.406211Z"
    }
   },
   "source": [
    "# Define a function y_hat for the tensors\n",
    "y_hat = w * x**2+ 0.5\n",
    "\n",
    "print(\"y_hat:\", y_hat)"
   ],
   "outputs": [
    {
     "name": "stdout",
     "output_type": "stream",
     "text": [
      "y_hat: tensor(12.5000, grad_fn=<AddBackward0>)\n"
     ]
    }
   ],
   "execution_count": 17
  },
  {
   "cell_type": "code",
   "id": "fb8b942b-9ad3-42c3-ae07-3523f43925e6",
   "metadata": {
    "ExecuteTime": {
     "end_time": "2025-02-19T11:49:23.993967Z",
     "start_time": "2025-02-19T11:49:23.989083Z"
    }
   },
   "source": [
    "s = y_hat - y\n",
    "loss = (s)**2\n",
    "\n",
    "print(\"Loss:\", loss)"
   ],
   "outputs": [
    {
     "name": "stdout",
     "output_type": "stream",
     "text": [
      "Loss: tensor(6.2500, grad_fn=<PowBackward0>)\n"
     ]
    }
   ],
   "execution_count": 18
  },
  {
   "cell_type": "code",
   "id": "e1e8af4c-7559-4ab9-bdd5-4623955f1106",
   "metadata": {
    "ExecuteTime": {
     "end_time": "2025-02-19T11:49:27.007596Z",
     "start_time": "2025-02-19T11:49:27.004222Z"
    }
   },
   "source": [
    "loss.backward()"
   ],
   "outputs": [],
   "execution_count": 19
  },
  {
   "cell_type": "code",
   "id": "35ce88cb-1688-4abd-859c-878555ea70f9",
   "metadata": {
    "ExecuteTime": {
     "end_time": "2025-02-19T11:49:27.348141Z",
     "start_time": "2025-02-19T11:49:27.343151Z"
    }
   },
   "source": [
    "dx = x.grad  # x does not have requires_grad=True, so dx will be None\n",
    "dw = w.grad  # w has requires_grad=True, so dw will contain the gradient\n",
    "db=b.grad\n",
    "print(\"x.grad :\", dx)\n",
    "print(\"w.grad :\", dw)\n",
    "print(\"b.grad = \",db)\n"
   ],
   "outputs": [
    {
     "name": "stdout",
     "output_type": "stream",
     "text": [
      "x.grad : tensor(60.)\n",
      "w.grad : tensor(20.)\n",
      "b.grad =  None\n"
     ]
    }
   ],
   "execution_count": 20
  },
  {
   "cell_type": "code",
   "execution_count": 174,
   "id": "df34550a-8ef3-4447-aa34-64617471a410",
   "metadata": {},
   "outputs": [
    {
     "data": {
      "text/plain": [
       "tensor(0.)"
      ]
     },
     "execution_count": 174,
     "metadata": {},
     "output_type": "execute_result"
    }
   ],
   "source": [
    "w.grad.data.zero_()\n",
    "x.grad.data.zero_()\n",
    "b.grad.data.zero_()"
   ]
  },
  {
   "cell_type": "code",
   "execution_count": 175,
   "id": "3ff815a0-1652-4e40-8a4a-90c864def0ec",
   "metadata": {},
   "outputs": [
    {
     "name": "stdout",
     "output_type": "stream",
     "text": [
      "x: tensor(2., requires_grad=True)\n",
      "y: tensor(10., requires_grad=True)\n",
      "w: tensor(3., requires_grad=True)\n",
      "b tensor(5., requires_grad=True)\n"
     ]
    }
   ],
   "source": [
    "print(\"x:\", x)\n",
    "print(\"y:\", y)\n",
    "print(\"w:\", w)\n",
    "print(\"b\",b)"
   ]
  },
  {
   "cell_type": "code",
   "execution_count": 176,
   "id": "87241e84-e883-490b-89b3-2d1ca432df75",
   "metadata": {},
   "outputs": [
    {
     "name": "stdout",
     "output_type": "stream",
     "text": [
      "y_hat: tensor(24., grad_fn=<AddBackward0>)\n"
     ]
    }
   ],
   "source": [
    "y_hat =x**3+w*(x**2)+2*x\n",
    "print(\"y_hat:\", y_hat)"
   ]
  },
  {
   "cell_type": "code",
   "execution_count": 177,
   "id": "15d774ce-bb59-4363-bb81-5a88ece578dd",
   "metadata": {},
   "outputs": [
    {
     "name": "stdout",
     "output_type": "stream",
     "text": [
      "Loss: tensor(196., grad_fn=<PowBackward0>)\n"
     ]
    }
   ],
   "source": [
    "s = y_hat - y\n",
    "loss = (s)**2\n",
    "\n",
    "print(\"Loss:\", loss)\n",
    "loss.backward()"
   ]
  },
  {
   "cell_type": "code",
   "execution_count": 179,
   "id": "9431f950-9094-4d28-88cd-65e8e704e303",
   "metadata": {},
   "outputs": [
    {
     "name": "stdout",
     "output_type": "stream",
     "text": [
      "x.grad : tensor(728.)\n",
      "w.grad : tensor(112.)\n",
      "b.grad =  tensor(0.)\n"
     ]
    }
   ],
   "source": [
    "print(\"x.grad :\", dx)\n",
    "print(\"w.grad :\", dw)\n",
    "print(\"b.grad = \",db)"
   ]
  },
  {
   "cell_type": "code",
   "execution_count": null,
   "id": "aec3b7fc-f451-4957-85c6-ce6ec7de1d74",
   "metadata": {},
   "outputs": [],
   "source": []
  },
  {
   "cell_type": "code",
   "execution_count": null,
   "id": "f5158d58-aa82-4855-aa60-9bfdabf47442",
   "metadata": {},
   "outputs": [],
   "source": []
  }
 ],
 "metadata": {
  "kernelspec": {
   "display_name": "Python 3 (ipykernel)",
   "language": "python",
   "name": "python3"
  },
  "language_info": {
   "codemirror_mode": {
    "name": "ipython",
    "version": 3
   },
   "file_extension": ".py",
   "mimetype": "text/x-python",
   "name": "python",
   "nbconvert_exporter": "python",
   "pygments_lexer": "ipython3",
   "version": "3.9.21"
  }
 },
 "nbformat": 4,
 "nbformat_minor": 5
}
